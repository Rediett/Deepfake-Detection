{
 "cells": [
  {
   "cell_type": "code",
   "execution_count": null,
   "metadata": {},
   "outputs": [],
   "source": [
    "import numpy as np\n",
    "import matplotlib.pyplot as plt\n",
    "from PIL import Image\n",
    "import os\n",
    "from tensorflow.keras.utils import to_categorical\n",
    "import tensorflow as tf"
   ]
  },
  {
   "cell_type": "markdown",
   "metadata": {},
   "source": [
    "Resize"
   ]
  },
  {
   "cell_type": "code",
   "execution_count": null,
   "metadata": {},
   "outputs": [],
   "source": [
    "path = \"./TrainingDataSet/\"\n",
    "dir_list = os.listdir(path)\n",
    "for i in dir_list:\n",
    "    if(i[0] != '.'):\n",
    "        img_files = os.listdir(path+i)\n",
    "        for j in img_files:\n",
    "            if(j[0] != '.'):\n",
    "                image = Image.open(path+i+\"/\"+j).convert('L')\n",
    "                new_image = image.resize((100, 100))\n",
    "                new_image.save(path+i+\"/\"+j)"
   ]
  },
  {
   "cell_type": "code",
   "execution_count": null,
   "metadata": {},
   "outputs": [],
   "source": [
    "label = sorted([\"fake\",\"real\"])"
   ]
  },
  {
   "cell_type": "markdown",
   "metadata": {},
   "source": [
    "create array"
   ]
  },
  {
   "cell_type": "code",
   "execution_count": null,
   "metadata": {},
   "outputs": [],
   "source": [
    "path = \"./TrainingDataSet/\"\n",
    "images_np = tf.keras.utils.image_dataset_from_directory(path,color_mode=\"grayscale\",image_size=(100,100))"
   ]
  },
  {
   "cell_type": "markdown",
   "metadata": {},
   "source": [
    "Display first batch"
   ]
  },
  {
   "cell_type": "code",
   "execution_count": null,
   "metadata": {},
   "outputs": [],
   "source": [
    "data_iterator = images_np.as_numpy_iterator()\n",
    "batch = data_iterator.next()\n",
    "\n",
    "idx = np.random.randint(len(batch[0]) - 9)\n",
    "plt.figure(figsize=(10,10))\n",
    "for i in range(9):\n",
    "    plt.subplot(3, 3, i+1)\n",
    "    plt.imshow(batch[0][i])\n",
    "    plt.xlabel(label[batch[1][i]])\n",
    "plt.show()"
   ]
  },
  {
   "cell_type": "markdown",
   "metadata": {},
   "source": [
    "Normalize"
   ]
  },
  {
   "cell_type": "code",
   "execution_count": null,
   "metadata": {},
   "outputs": [],
   "source": [
    "images_np = images_np.map(lambda x, y: (x/255,y))"
   ]
  },
  {
   "cell_type": "markdown",
   "metadata": {},
   "source": [
    "Split Data"
   ]
  },
  {
   "cell_type": "code",
   "execution_count": null,
   "metadata": {},
   "outputs": [],
   "source": [
    "train_size = int(len(images_np)*0.7)\n",
    "val_size =  int(len(images_np)*0.2)\n",
    "test_size = int(len(images_np)*0.1)\n",
    "\n",
    "train = images_np.take(train_size)\n",
    "val = images_np.skip(val_size).take(val_size)\n",
    "test = images_np.skip(test_size).take(test_size)"
   ]
  },
  {
   "cell_type": "markdown",
   "metadata": {},
   "source": [
    "Build Deep Learning Model"
   ]
  },
  {
   "cell_type": "code",
   "execution_count": null,
   "metadata": {},
   "outputs": [],
   "source": [
    "from tensorflow.keras import Sequential, layers\n",
    "\n",
    "def build_model():\n",
    "    model = Sequential()\n",
    "    # 32 output units, 3 filter size\n",
    "    model.add(layers.Conv2D(16, 3, 1, activation='relu', padding='same', input_shape=(100, 100, 1)))\n",
    "    model.add(layers.MaxPooling2D())\n",
    "    # 32 output units, 5 filter size\n",
    "    model.add(layers.Conv2D(32, 3, 1, activation='relu'))\n",
    "    model.add(layers.MaxPooling2D())\n",
    "\n",
    "    model.add(layers.Conv2D(16, 3, 1, activation='relu'))\n",
    "    model.add(layers.MaxPooling2D())\n",
    "\n",
    "    model.add(layers.Flatten())\n",
    "\n",
    "    model.add(layers.Dense(100, activation='relu'))\n",
    "    model.add(layers.Dense(1, activation='sigmoid'))\n",
    "\n",
    "    model.compile(\n",
    "        optimizer ='adam',\n",
    "        loss = tf.losses.BinaryCrossentropy(),\n",
    "        metrics = ['accuracy'])\n",
    "    return model\n",
    "\n",
    "# create model\n",
    "model = build_model()\n",
    "\n",
    "# see model details\n",
    "model.summary()"
   ]
  },
  {
   "cell_type": "code",
   "execution_count": null,
   "metadata": {},
   "outputs": [],
   "source": [
    "tensorboard_callback = tf.keras.callbacks.TensorBoard(\"logs\")"
   ]
  },
  {
   "cell_type": "markdown",
   "metadata": {},
   "source": [
    "Train"
   ]
  },
  {
   "cell_type": "code",
   "execution_count": null,
   "metadata": {},
   "outputs": [],
   "source": [
    "%%time\n",
    "history = model.fit(train, epochs=20,validation_data=val, callbacks= [tensorboard_callback])\n",
    "model.save('./models/Deepfake_Detection.keras')\n",
    "\n",
    "print(\"\\ninitial accuracy: {} | latest accuracy: {}\".format(history.history[\"accuracy\"][0], history.history[\"accuracy\"][-1]))\n",
    "print(\"initial loss: {} | latest loss: {}\".format(history.history[\"loss\"][0], history.history[\"loss\"][-1]))"
   ]
  },
  {
   "cell_type": "markdown",
   "metadata": {},
   "source": [
    "Plot Performance"
   ]
  },
  {
   "cell_type": "code",
   "execution_count": null,
   "metadata": {},
   "outputs": [],
   "source": [
    "fig, axis = plt.subplots(1, 2, figsize=(10,4))\n",
    "axis[0].plot(history.history[\"accuracy\"])\n",
    "axis[0].set_title(\"accuracy over epochs\")\n",
    "axis[1].plot(history.history[\"loss\"])\n",
    "axis[1].set_title(\"loss over epochs\")\n",
    "plt.show()"
   ]
  },
  {
   "cell_type": "markdown",
   "metadata": {},
   "source": [
    "Evaluate"
   ]
  },
  {
   "cell_type": "code",
   "execution_count": null,
   "metadata": {},
   "outputs": [],
   "source": [
    "test_path = '/Users/rediettadesse/Desktop/AI_projects/Deepfake Detection/TrainingDataSet/fake/fake-826.png'\n",
    "image = tf.keras.utils.load_img(test_path,color_mode=\"grayscale\",target_size=(100,100))\n",
    "input_arr = tf.keras.utils.img_to_array(image)\n",
    "input_arr = np.array([input_arr])/255.0\n",
    "predictions = model.predict(input_arr)\n",
    "plt.figure(figsize=(10,10))\n",
    "plt.imshow(image)\n",
    "plt.title(\"Predicted : \"+label[round(predictions[0][0])])\n",
    "plt.show()"
   ]
  }
 ],
 "metadata": {
  "kernelspec": {
   "display_name": "Python 3",
   "language": "python",
   "name": "python3"
  },
  "language_info": {
   "codemirror_mode": {
    "name": "ipython",
    "version": 3
   },
   "file_extension": ".py",
   "mimetype": "text/x-python",
   "name": "python",
   "nbconvert_exporter": "python",
   "pygments_lexer": "ipython3",
   "version": "3.7.2"
  }
 },
 "nbformat": 4,
 "nbformat_minor": 2
}
